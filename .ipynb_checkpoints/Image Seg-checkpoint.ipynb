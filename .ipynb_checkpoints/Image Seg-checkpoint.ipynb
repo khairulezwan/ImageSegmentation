{
 "cells": [
  {
   "cell_type": "code",
   "execution_count": 1,
   "metadata": {},
   "outputs": [
    {
     "name": "stderr",
     "output_type": "stream",
     "text": [
      "Using TensorFlow backend.\n"
     ]
    }
   ],
   "source": [
    "from keras_segmentation.models.unet import mobilenet_unet\n",
    "import matplotlib.pyplot as plt"
   ]
  },
  {
   "cell_type": "code",
   "execution_count": 2,
   "metadata": {},
   "outputs": [],
   "source": [
    "model = mobilenet_unet(n_classes=2,  input_height=224, input_width=224)"
   ]
  },
  {
   "cell_type": "code",
   "execution_count": 4,
   "metadata": {},
   "outputs": [
    {
     "name": "stderr",
     "output_type": "stream",
     "text": [
      " 31%|███▏      | 50/160 [00:00<00:00, 497.34it/s]"
     ]
    },
    {
     "name": "stdout",
     "output_type": "stream",
     "text": [
      "Verifying train dataset\n"
     ]
    },
    {
     "name": "stderr",
     "output_type": "stream",
     "text": [
      "100%|██████████| 160/160 [00:00<00:00, 493.40it/s]\n"
     ]
    },
    {
     "name": "stdout",
     "output_type": "stream",
     "text": [
      "Dataset verified! \n",
      "Starting Epoch  0\n",
      "Epoch 1/1\n",
      "512/512 [==============================] - 64s 124ms/step - loss: 0.1131 - acc: 0.9631\n",
      "saved  checks/mobilenet_unet_1/.model.0\n",
      "Finished Epoch 0\n",
      "Starting Epoch  1\n",
      "Epoch 1/1\n",
      "512/512 [==============================] - 56s 110ms/step - loss: 0.0234 - acc: 0.9911\n",
      "saved  checks/mobilenet_unet_1/.model.1\n",
      "Finished Epoch 1\n",
      "Starting Epoch  2\n",
      "Epoch 1/1\n",
      "512/512 [==============================] - 56s 110ms/step - loss: 0.0156 - acc: 0.9939\n",
      "saved  checks/mobilenet_unet_1/.model.2\n",
      "Finished Epoch 2\n",
      "Starting Epoch  3\n",
      "Epoch 1/1\n",
      "512/512 [==============================] - 56s 110ms/step - loss: 0.0123 - acc: 0.9951\n",
      "saved  checks/mobilenet_unet_1/.model.3\n",
      "Finished Epoch 3\n",
      "Starting Epoch  4\n",
      "Epoch 1/1\n",
      "512/512 [==============================] - 56s 110ms/step - loss: 0.0101 - acc: 0.9960\n",
      "saved  checks/mobilenet_unet_1/.model.4\n",
      "Finished Epoch 4\n",
      "Starting Epoch  5\n",
      "Epoch 1/1\n",
      "512/512 [==============================] - 56s 110ms/step - loss: 0.0081 - acc: 0.9968\n",
      "saved  checks/mobilenet_unet_1/.model.5\n",
      "Finished Epoch 5\n",
      "Starting Epoch  6\n",
      "Epoch 1/1\n",
      "512/512 [==============================] - 56s 110ms/step - loss: 0.0069 - acc: 0.9973\n",
      "saved  checks/mobilenet_unet_1/.model.6\n",
      "Finished Epoch 6\n",
      "Starting Epoch  7\n",
      "Epoch 1/1\n",
      "512/512 [==============================] - 56s 110ms/step - loss: 0.0055 - acc: 0.9978\n",
      "saved  checks/mobilenet_unet_1/.model.7\n",
      "Finished Epoch 7\n",
      "Starting Epoch  8\n",
      "Epoch 1/1\n",
      "512/512 [==============================] - 56s 109ms/step - loss: 0.0047 - acc: 0.9982\n",
      "saved  checks/mobilenet_unet_1/.model.8\n",
      "Finished Epoch 8\n",
      "Starting Epoch  9\n",
      "Epoch 1/1\n",
      "512/512 [==============================] - 56s 109ms/step - loss: 0.0035 - acc: 0.9987\n",
      "saved  checks/mobilenet_unet_1/.model.9\n",
      "Finished Epoch 9\n",
      "Starting Epoch  10\n",
      "Epoch 1/1\n",
      "512/512 [==============================] - 56s 110ms/step - loss: 0.0025 - acc: 0.9991\n",
      "saved  checks/mobilenet_unet_1/.model.10\n",
      "Finished Epoch 10\n",
      "Starting Epoch  11\n",
      "Epoch 1/1\n",
      "512/512 [==============================] - 56s 110ms/step - loss: 9.5829e-04 - acc: 0.9997\n",
      "saved  checks/mobilenet_unet_1/.model.11\n",
      "Finished Epoch 11\n",
      "Starting Epoch  12\n",
      "Epoch 1/1\n",
      "512/512 [==============================] - 56s 110ms/step - loss: 0.0037 - acc: 0.9989\n",
      "saved  checks/mobilenet_unet_1/.model.12\n",
      "Finished Epoch 12\n",
      "Starting Epoch  13\n",
      "Epoch 1/1\n",
      "512/512 [==============================] - 56s 109ms/step - loss: 0.0015 - acc: 0.9996\n",
      "saved  checks/mobilenet_unet_1/.model.13\n",
      "Finished Epoch 13\n",
      "Starting Epoch  14\n",
      "Epoch 1/1\n",
      "512/512 [==============================] - 56s 109ms/step - loss: 1.9520e-04 - acc: 1.0000\n",
      "saved  checks/mobilenet_unet_1/.model.14\n",
      "Finished Epoch 14\n",
      "Starting Epoch  15\n",
      "Epoch 1/1\n",
      "512/512 [==============================] - 56s 110ms/step - loss: 1.3008e-04 - acc: 1.0000\n",
      "saved  checks/mobilenet_unet_1/.model.15\n",
      "Finished Epoch 15\n",
      "Starting Epoch  16\n",
      "Epoch 1/1\n",
      "512/512 [==============================] - 56s 110ms/step - loss: 9.7966e-05 - acc: 1.0000\n",
      "saved  checks/mobilenet_unet_1/.model.16\n",
      "Finished Epoch 16\n",
      "Starting Epoch  17\n",
      "Epoch 1/1\n",
      "512/512 [==============================] - 56s 110ms/step - loss: 6.6423e-05 - acc: 1.0000\n",
      "saved  checks/mobilenet_unet_1/.model.17\n",
      "Finished Epoch 17\n",
      "Starting Epoch  18\n",
      "Epoch 1/1\n",
      "512/512 [==============================] - 56s 110ms/step - loss: 5.3216e-05 - acc: 1.0000\n",
      "saved  checks/mobilenet_unet_1/.model.18\n",
      "Finished Epoch 18\n",
      "Starting Epoch  19\n",
      "Epoch 1/1\n",
      "512/512 [==============================] - 56s 110ms/step - loss: 3.8051e-05 - acc: 1.0000\n",
      "saved  checks/mobilenet_unet_1/.model.19\n",
      "Finished Epoch 19\n",
      "Starting Epoch  20\n",
      "Epoch 1/1\n",
      "512/512 [==============================] - 56s 110ms/step - loss: 3.0587e-05 - acc: 1.0000\n",
      "saved  checks/mobilenet_unet_1/.model.20\n",
      "Finished Epoch 20\n",
      "Starting Epoch  21\n",
      "Epoch 1/1\n",
      "512/512 [==============================] - 56s 110ms/step - loss: 2.4936e-05 - acc: 1.0000\n",
      "saved  checks/mobilenet_unet_1/.model.21\n",
      "Finished Epoch 21\n",
      "Starting Epoch  22\n",
      "Epoch 1/1\n",
      "512/512 [==============================] - 56s 110ms/step - loss: 2.1276e-05 - acc: 1.0000\n",
      "saved  checks/mobilenet_unet_1/.model.22\n",
      "Finished Epoch 22\n",
      "Starting Epoch  23\n",
      "Epoch 1/1\n",
      "512/512 [==============================] - 56s 110ms/step - loss: 1.8214e-05 - acc: 1.0000\n",
      "saved  checks/mobilenet_unet_1/.model.23\n",
      "Finished Epoch 23\n",
      "Starting Epoch  24\n",
      "Epoch 1/1\n",
      "512/512 [==============================] - 56s 110ms/step - loss: 1.6281e-05 - acc: 1.0000\n",
      "saved  checks/mobilenet_unet_1/.model.24\n",
      "Finished Epoch 24\n",
      "Starting Epoch  25\n",
      "Epoch 1/1\n",
      "512/512 [==============================] - 56s 110ms/step - loss: 1.4794e-05 - acc: 1.0000\n",
      "saved  checks/mobilenet_unet_1/.model.25\n",
      "Finished Epoch 25\n",
      "Starting Epoch  26\n",
      "Epoch 1/1\n",
      "512/512 [==============================] - 56s 110ms/step - loss: 1.3555e-05 - acc: 1.0000\n",
      "saved  checks/mobilenet_unet_1/.model.26\n",
      "Finished Epoch 26\n",
      "Starting Epoch  27\n",
      "Epoch 1/1\n",
      "512/512 [==============================] - 56s 110ms/step - loss: 1.2448e-05 - acc: 1.0000\n",
      "saved  checks/mobilenet_unet_1/.model.27\n",
      "Finished Epoch 27\n",
      "Starting Epoch  28\n",
      "Epoch 1/1\n",
      "512/512 [==============================] - 56s 110ms/step - loss: 1.1533e-05 - acc: 1.0000\n",
      "saved  checks/mobilenet_unet_1/.model.28\n",
      "Finished Epoch 28\n",
      "Starting Epoch  29\n",
      "Epoch 1/1\n",
      "512/512 [==============================] - 56s 110ms/step - loss: 1.0711e-05 - acc: 1.0000\n",
      "saved  checks/mobilenet_unet_1/.model.29\n",
      "Finished Epoch 29\n",
      "Starting Epoch  30\n",
      "Epoch 1/1\n",
      "512/512 [==============================] - 56s 110ms/step - loss: 1.0047e-05 - acc: 1.0000\n",
      "saved  checks/mobilenet_unet_1/.model.30\n",
      "Finished Epoch 30\n",
      "Starting Epoch  31\n",
      "Epoch 1/1\n",
      "512/512 [==============================] - 56s 110ms/step - loss: 9.3744e-06 - acc: 1.0000\n",
      "saved  checks/mobilenet_unet_1/.model.31\n",
      "Finished Epoch 31\n"
     ]
    }
   ],
   "source": [
    "model.train(\n",
    "    train_images =  \"thresh_data/train_img/\",\n",
    "    train_annotations = \"thresh_data/train_seg/\",\n",
    "    checkpoints_path = \"checks/mobilenet_unet_1/\" , \n",
    "    epochs=5\n",
    ")"
   ]
  },
  {
   "cell_type": "code",
   "execution_count": 5,
   "metadata": {},
   "outputs": [],
   "source": [
    "out = model.predict_segmentation(\n",
    "    inp=\"thresh_data/val_img/Val_00_19.png\",\n",
    "    out_fname=\"/tmp/out.png\"\n",
    ")"
   ]
  },
  {
   "cell_type": "code",
   "execution_count": 18,
   "metadata": {},
   "outputs": [
    {
     "data": {
      "text/plain": [
       "<matplotlib.image.AxesImage at 0x7fd4a5e7a780>"
      ]
     },
     "execution_count": 18,
     "metadata": {},
     "output_type": "execute_result"
    },
    {
     "data": {
      "image/png": "[encoded data removed]",
      "text/plain": [
       "<Figure size 432x288 with 1 Axes>"
      ]
     },
     "metadata": {
      "needs_background": "light"
     },
     "output_type": "display_data"
    }
   ],
   "source": [
    "import matplotlib.pyplot as plt\n",
    "plt.imshow(out)"
   ]
  },
  {
   "cell_type": "code",
   "execution_count": 17,
   "metadata": {},
   "outputs": [
    {
     "ename": "AssertionError",
     "evalue": "not implemented ",
     "output_type": "error",
     "traceback": [
      "\u001b[0;31m---------------------------------------------------------------------------\u001b[0m",
      "\u001b[0;31mAssertionError\u001b[0m                            Traceback (most recent call last)",
      "\u001b[0;32m<ipython-input-17-323d435fb531>\u001b[0m in \u001b[0;36m<module>\u001b[0;34m\u001b[0m\n\u001b[1;32m      1\u001b[0m \u001b[0;31m# evaluating the model\u001b[0m\u001b[0;34m\u001b[0m\u001b[0;34m\u001b[0m\u001b[0;34m\u001b[0m\u001b[0m\n\u001b[0;32m----> 2\u001b[0;31m \u001b[0mprint\u001b[0m\u001b[0;34m(\u001b[0m\u001b[0mmodel\u001b[0m\u001b[0;34m.\u001b[0m\u001b[0mevaluate_segmentation\u001b[0m\u001b[0;34m(\u001b[0m \u001b[0mout\u001b[0m \u001b[0;34m)\u001b[0m \u001b[0;34m)\u001b[0m\u001b[0;34m\u001b[0m\u001b[0;34m\u001b[0m\u001b[0m\n\u001b[0m",
      "\u001b[0;32m~/.virtualenvs/mask_rcnn/lib/python3.6/site-packages/keras_segmentation/predict.py\u001b[0m in \u001b[0;36mevaluate\u001b[0;34m(model, inp_inmges, annotations, checkpoints_path)\u001b[0m\n\u001b[1;32m    109\u001b[0m \u001b[0;32mdef\u001b[0m \u001b[0mevaluate\u001b[0m\u001b[0;34m(\u001b[0m \u001b[0mmodel\u001b[0m\u001b[0;34m=\u001b[0m\u001b[0;32mNone\u001b[0m \u001b[0;34m,\u001b[0m \u001b[0minp_inmges\u001b[0m\u001b[0;34m=\u001b[0m\u001b[0;32mNone\u001b[0m \u001b[0;34m,\u001b[0m \u001b[0mannotations\u001b[0m\u001b[0;34m=\u001b[0m\u001b[0;32mNone\u001b[0m \u001b[0;34m,\u001b[0m \u001b[0mcheckpoints_path\u001b[0m\u001b[0;34m=\u001b[0m\u001b[0;32mNone\u001b[0m \u001b[0;34m)\u001b[0m\u001b[0;34m:\u001b[0m\u001b[0;34m\u001b[0m\u001b[0;34m\u001b[0m\u001b[0m\n\u001b[1;32m    110\u001b[0m \u001b[0;34m\u001b[0m\u001b[0m\n\u001b[0;32m--> 111\u001b[0;31m         \u001b[0;32massert\u001b[0m \u001b[0;32mFalse\u001b[0m \u001b[0;34m,\u001b[0m \u001b[0;34m\"not implemented \"\u001b[0m\u001b[0;34m\u001b[0m\u001b[0;34m\u001b[0m\u001b[0m\n\u001b[0m\u001b[1;32m    112\u001b[0m \u001b[0;34m\u001b[0m\u001b[0m\n\u001b[1;32m    113\u001b[0m         \u001b[0mious\u001b[0m \u001b[0;34m=\u001b[0m \u001b[0;34m[\u001b[0m\u001b[0;34m]\u001b[0m\u001b[0;34m\u001b[0m\u001b[0;34m\u001b[0m\u001b[0m\n",
      "\u001b[0;31mAssertionError\u001b[0m: not implemented "
     ]
    }
   ],
   "source": [
    "# evaluating the model \n",
    "print(model.evaluate_segmentation( out ) )"
   ]
  }
 ],
 "metadata": {
  "kernelspec": {
   "display_name": "Python 3",
   "language": "python",
   "name": "python3"
  },
  "language_info": {
   "codemirror_mode": {
    "name": "ipython",
    "version": 3
   },
   "file_extension": ".py",
   "mimetype": "text/x-python",
   "name": "python",
   "nbconvert_exporter": "python",
   "pygments_lexer": "ipython3",
   "version": "3.6.7"
  }
 },
 "nbformat": 4,
 "nbformat_minor": 2
}
