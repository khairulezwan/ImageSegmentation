{
 "cells": [
  {
   "cell_type": "code",
   "execution_count": 1,
   "metadata": {},
   "outputs": [
    {
     "name": "stderr",
     "output_type": "stream",
     "text": [
      "Using TensorFlow backend.\n"
     ]
    }
   ],
   "source": [
    "from keras_segmentation.models.unet import mobilenet_unet\n",
    "import matplotlib.pyplot as plt"
   ]
  },
  {
   "cell_type": "code",
   "execution_count": 2,
   "metadata": {},
   "outputs": [],
   "source": [
    "model = mobilenet_unet(n_classes=2,  input_height=224, input_width=224)"
   ]
  },
  {
   "cell_type": "code",
   "execution_count": 3,
   "metadata": {},
   "outputs": [
    {
     "name": "stderr",
     "output_type": "stream",
     "text": [
      " 28%|██▊       | 45/160 [00:00<00:00, 441.99it/s]"
     ]
    },
    {
     "name": "stdout",
     "output_type": "stream",
     "text": [
      "Verifying training dataset\n"
     ]
    },
    {
     "name": "stderr",
     "output_type": "stream",
     "text": [
      "100%|██████████| 160/160 [00:00<00:00, 497.04it/s]\n"
     ]
    },
    {
     "name": "stdout",
     "output_type": "stream",
     "text": [
      "Dataset verified! \n",
      "Starting Epoch  0\n",
      "Epoch 1/1\n",
      "512/512 [==============================] - 62s 120ms/step - loss: 0.1570 - acc: 0.9502\n",
      "saved  checks/mobilenet_unet_3/.model.0\n",
      "Finished Epoch 0\n",
      "Starting Epoch  1\n",
      "Epoch 1/1\n",
      "512/512 [==============================] - 54s 106ms/step - loss: 0.0433 - acc: 0.9858\n",
      "saved  checks/mobilenet_unet_3/.model.1\n",
      "Finished Epoch 1\n",
      "Starting Epoch  2\n",
      "Epoch 1/1\n",
      "512/512 [==============================] - 54s 106ms/step - loss: 0.0243 - acc: 0.9917\n",
      "saved  checks/mobilenet_unet_3/.model.2\n",
      "Finished Epoch 2\n",
      "Starting Epoch  3\n",
      "Epoch 1/1\n",
      "512/512 [==============================] - 54s 106ms/step - loss: 0.0169 - acc: 0.9939\n",
      "saved  checks/mobilenet_unet_3/.model.3\n",
      "Finished Epoch 3\n",
      "Starting Epoch  4\n",
      "Epoch 1/1\n",
      "512/512 [==============================] - 54s 106ms/step - loss: 0.0127 - acc: 0.9951\n",
      "saved  checks/mobilenet_unet_3/.model.4\n",
      "Finished Epoch 4\n",
      "Starting Epoch  5\n",
      "Epoch 1/1\n",
      "512/512 [==============================] - 54s 106ms/step - loss: 0.0106 - acc: 0.9958\n",
      "saved  checks/mobilenet_unet_3/.model.5\n",
      "Finished Epoch 5\n",
      "Starting Epoch  6\n",
      "Epoch 1/1\n",
      "512/512 [==============================] - 54s 106ms/step - loss: 0.0086 - acc: 0.9966\n",
      "saved  checks/mobilenet_unet_3/.model.6\n",
      "Finished Epoch 6\n",
      "Starting Epoch  7\n",
      "Epoch 1/1\n",
      "512/512 [==============================] - 54s 106ms/step - loss: 0.0070 - acc: 0.9973\n",
      "saved  checks/mobilenet_unet_3/.model.7\n",
      "Finished Epoch 7\n",
      "Starting Epoch  8\n",
      "Epoch 1/1\n",
      "512/512 [==============================] - 54s 106ms/step - loss: 0.0062 - acc: 0.9976\n",
      "saved  checks/mobilenet_unet_3/.model.8\n",
      "Finished Epoch 8\n",
      "Starting Epoch  9\n",
      "Epoch 1/1\n",
      "512/512 [==============================] - 54s 106ms/step - loss: 0.0054 - acc: 0.9980\n",
      "saved  checks/mobilenet_unet_3/.model.9\n",
      "Finished Epoch 9\n"
     ]
    }
   ],
   "source": [
    "model.train(\n",
    "    train_images =  \"illumination_dataset/train_img/\",\n",
    "    train_annotations = \"illumination_dataset/train_seg/\",\n",
    "    checkpoints_path = \"checks/mobilenet_unet_3/\" , \n",
    "    epochs=10\n",
    ")"
   ]
  },
  {
   "cell_type": "code",
   "execution_count": 13,
   "metadata": {},
   "outputs": [],
   "source": [
    "out = model.predict_segmentation(\n",
    "    inp=\"illumination_dataset/val_img/Val_00_19.png\",\n",
    "    out_fname=\"output_segmentation/illumination_pred1.png\"\n",
    ")\n",
    "out1 = model.predict_segmentation(\n",
    "    inp=\"illumination_dataset/val_img/Val_00_20.png\",\n",
    "    out_fname=\"output_segmentation/illumination_pred2.png\"\n",
    ")\n",
    "out2 = model.predict_segmentation(\n",
    "    inp=\"illumination_dataset/val_img/Val_00_21.png\",\n",
    "    out_fname=\"output_segmentation/illumination_pred3.png\"\n",
    ")\n",
    "out3 = model.predict_segmentation(\n",
    "    inp=\"illumination_dataset/val_img/Val_00_22.png\",\n",
    "    out_fname=\"output_segmentation/illumination_pred4.png\"\n",
    ")"
   ]
  },
  {
   "cell_type": "code",
   "execution_count": 14,
   "metadata": {},
   "outputs": [
    {
     "data": {
      "text/plain": [
       "<matplotlib.image.AxesImage at 0x7f5755cace48>"
      ]
     },
     "execution_count": 14,
     "metadata": {},
     "output_type": "execute_result"
    },
    {
     "data": {
      "image/png": "[encoded data removed]",
      "text/plain": [
       "<Figure size 432x288 with 1 Axes>"
      ]
     },
     "metadata": {
      "needs_background": "light"
     },
     "output_type": "display_data"
    }
   ],
   "source": [
    "plt.imshow(out)"
   ]
  },
  {
   "cell_type": "code",
   "execution_count": 15,
   "metadata": {},
   "outputs": [
    {
     "data": {
      "text/plain": [
       "<matplotlib.image.AxesImage at 0x7f5755ce4e80>"
      ]
     },
     "execution_count": 15,
     "metadata": {},
     "output_type": "execute_result"
    },
    {
     "data": {
      "image/png": "[encoded data removed]",
      "text/plain": [
       "<Figure size 432x288 with 1 Axes>"
      ]
     },
     "metadata": {
      "needs_background": "light"
     },
     "output_type": "display_data"
    }
   ],
   "source": [
    "plt.imshow(out1)"
   ]
  },
  {
   "cell_type": "code",
   "execution_count": 16,
   "metadata": {},
   "outputs": [
    {
     "data": {
      "text/plain": [
       "<matplotlib.image.AxesImage at 0x7f5755d22cc0>"
      ]
     },
     "execution_count": 16,
     "metadata": {},
     "output_type": "execute_result"
    },
    {
     "data": {
      "image/png": "[encoded data removed]",
      "text/plain": [
       "<Figure size 432x288 with 1 Axes>"
      ]
     },
     "metadata": {
      "needs_background": "light"
     },
     "output_type": "display_data"
    }
   ],
   "source": [
    "plt.imshow(out2)"
   ]
  },
  {
   "cell_type": "code",
   "execution_count": 17,
   "metadata": {},
   "outputs": [
    {
     "data": {
      "text/plain": [
       "<matplotlib.image.AxesImage at 0x7f5755bd18d0>"
      ]
     },
     "execution_count": 17,
     "metadata": {},
     "output_type": "execute_result"
    },
    {
     "data": {
      "image/png": "[encoded data removed]",
      "text/plain": [
       "<Figure size 432x288 with 1 Axes>"
      ]
     },
     "metadata": {
      "needs_background": "light"
     },
     "output_type": "display_data"
    }
   ],
   "source": [
    "plt.imshow(out3)"
   ]
  },
  {
   "cell_type": "code",
   "execution_count": 12,
   "metadata": {},
   "outputs": [
    {
     "name": "stderr",
     "output_type": "stream",
     "text": [
      "40it [00:00, 47.76it/s]"
     ]
    },
    {
     "name": "stdout",
     "output_type": "stream",
     "text": [
      "{'frequency_weighted_IU': 0.8629955336992379, 'mean_IU': 0.8062798498232076, 'class_wise_IU': array([0.91317513, 0.69938457])}\n"
     ]
    },
    {
     "name": "stderr",
     "output_type": "stream",
     "text": [
      "\n"
     ]
    }
   ],
   "source": [
    "# evaluating the model \n",
    "print(model.evaluate_segmentation( inp_images_dir=\"illumination_dataset/val_img/\"  , annotations_dir=\"illumination_dataset/val_seg/\" ) )"
   ]
  }
 ],
 "metadata": {
  "kernelspec": {
   "display_name": "Python 3",
   "language": "python",
   "name": "python3"
  },
  "language_info": {
   "codemirror_mode": {
    "name": "ipython",
    "version": 3
   },
   "file_extension": ".py",
   "mimetype": "text/x-python",
   "name": "python",
   "nbconvert_exporter": "python",
   "pygments_lexer": "ipython3",
   "version": "3.6.7"
  }
 },
 "nbformat": 4,
 "nbformat_minor": 2
}
